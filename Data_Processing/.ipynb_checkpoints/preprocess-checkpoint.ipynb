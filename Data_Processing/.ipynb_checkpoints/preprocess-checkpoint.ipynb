{
 "cells": [
  {
   "cell_type": "code",
   "execution_count": 1,
   "metadata": {},
   "outputs": [],
   "source": [
    "# Python SQL toolkit and Object Relational Mapper\n",
    "import sqlalchemy\n",
    "from sqlalchemy.ext.automap import automap_base\n",
    "from sqlalchemy.orm import Session\n",
    "from sqlalchemy import create_engine\n",
    "import pandas as pd"
   ]
  },
  {
   "cell_type": "code",
   "execution_count": 11,
   "metadata": {
    "nbgrader": {
     "grade": false,
     "grade_id": "cell-70673a582be08b2b",
     "locked": false,
     "schema_version": 1,
     "solution": true
    }
   },
   "outputs": [],
   "source": [
    "# Create engine using the `demographics.sqlite` database file\n",
    "engine = create_engine(\"sqlite:///C:/Users/JoshWeidenaar/Downloads/database.sqlite\")"
   ]
  },
  {
   "cell_type": "code",
   "execution_count": null,
   "metadata": {},
   "outputs": [],
   "source": []
  },
  {
   "cell_type": "code",
   "execution_count": 12,
   "metadata": {},
   "outputs": [
    {
     "data": {
      "text/plain": [
       "Engine(sqlite:///C:/Users/JoshWeidenaar/Downloads/database.sqlite)"
      ]
     },
     "execution_count": 12,
     "metadata": {},
     "output_type": "execute_result"
    }
   ],
   "source": [
    "engine"
   ]
  },
  {
   "cell_type": "code",
   "execution_count": null,
   "metadata": {},
   "outputs": [],
   "source": [
    "engine."
   ]
  },
  {
   "cell_type": "code",
   "execution_count": 13,
   "metadata": {
    "nbgrader": {
     "grade": false,
     "grade_id": "cell-41aa0b6e080b0fc3",
     "locked": false,
     "schema_version": 1,
     "solution": true
    }
   },
   "outputs": [],
   "source": [
    "# Declare a Base using `automap_base()`\n",
    "Base = automap_base()"
   ]
  },
  {
   "cell_type": "code",
   "execution_count": 14,
   "metadata": {
    "nbgrader": {
     "grade": false,
     "grade_id": "cell-6bfc53d06684937a",
     "locked": false,
     "schema_version": 1,
     "solution": true
    }
   },
   "outputs": [],
   "source": [
    "# Use the Base class to reflect the database tables\n",
    "Base.prepare(engine, reflect=True)"
   ]
  },
  {
   "cell_type": "code",
   "execution_count": 22,
   "metadata": {
    "nbgrader": {
     "grade": false,
     "grade_id": "cell-490b4263c4872970",
     "locked": false,
     "schema_version": 1,
     "solution": true
    }
   },
   "outputs": [],
   "source": [
    "# Create a session\n",
    "session = Session(engine)"
   ]
  },
  {
   "cell_type": "code",
   "execution_count": 20,
   "metadata": {
    "nbgrader": {
     "grade": false,
     "grade_id": "cell-ed6e858f1d08dd99",
     "locked": false,
     "schema_version": 1,
     "solution": true
    }
   },
   "outputs": [],
   "source": [
    "# Print all of the classes mapped to the Base\n",
    "classes = Base.classes.keys()"
   ]
  },
  {
   "cell_type": "code",
   "execution_count": 47,
   "metadata": {},
   "outputs": [],
   "source": [
    "df_dict = {}\n",
    "\n",
    "for i in classes:\n",
    "    class_call = Base.classes[i]\n",
    "    class_data = session.query(class_call).all()\n",
    "    listie_dicts = []\n",
    "    for j in class_data:\n",
    "        listie_dicts.append(j.__dict__)\n",
    "    df_dict[i] = pd.DataFrame(listie_dicts)"
   ]
  },
  {
   "cell_type": "code",
   "execution_count": 79,
   "metadata": {},
   "outputs": [
    {
     "data": {
      "text/plain": [
       "['_sa_instance_state',\n",
       " 'home_player_X4',\n",
       " 'away_player_Y3',\n",
       " 'shoton',\n",
       " 'LBH',\n",
       " 'home_player_X5',\n",
       " 'away_player_Y4',\n",
       " 'shotoff',\n",
       " 'LBD',\n",
       " 'home_player_X6',\n",
       " 'away_player_Y5',\n",
       " 'foulcommit',\n",
       " 'LBA',\n",
       " 'home_player_X7',\n",
       " 'away_player_Y6',\n",
       " 'card',\n",
       " 'PSH',\n",
       " 'home_player_X8',\n",
       " 'away_player_Y7',\n",
       " 'cross',\n",
       " 'PSD',\n",
       " 'home_player_X9',\n",
       " 'away_player_Y8',\n",
       " 'corner',\n",
       " 'PSA',\n",
       " 'home_player_X10',\n",
       " 'away_player_Y9',\n",
       " 'possession',\n",
       " 'WHH',\n",
       " 'home_player_X11',\n",
       " 'away_player_Y10',\n",
       " 'B365H',\n",
       " 'WHD',\n",
       " 'away_player_Y11',\n",
       " 'away_player_X1',\n",
       " 'B365D',\n",
       " 'WHA',\n",
       " 'away_player_X2',\n",
       " 'home_player_1',\n",
       " 'B365A',\n",
       " 'SJH',\n",
       " 'away_player_X3',\n",
       " 'home_player_2',\n",
       " 'BWH',\n",
       " 'SJD',\n",
       " 'away_player_X4',\n",
       " 'home_player_3',\n",
       " 'BWD',\n",
       " 'SJA',\n",
       " 'away_player_X5',\n",
       " 'home_player_4',\n",
       " 'BWA',\n",
       " 'VCH',\n",
       " 'away_player_X6',\n",
       " 'home_player_5',\n",
       " 'IWH',\n",
       " 'VCD',\n",
       " 'away_player_X7',\n",
       " 'home_player_6',\n",
       " 'IWD',\n",
       " 'VCA',\n",
       " 'away_player_X8',\n",
       " 'home_player_7',\n",
       " 'IWA',\n",
       " 'GBH',\n",
       " 'away_player_X9',\n",
       " 'home_player_8',\n",
       " 'GBD',\n",
       " 'away_player_X10',\n",
       " 'home_player_9',\n",
       " 'GBA',\n",
       " 'id',\n",
       " 'away_player_X11',\n",
       " 'home_player_10',\n",
       " 'BSH',\n",
       " 'country_id',\n",
       " 'home_player_Y1',\n",
       " 'home_player_11',\n",
       " 'BSD',\n",
       " 'league_id',\n",
       " 'home_player_Y2',\n",
       " 'away_player_1',\n",
       " 'BSA',\n",
       " 'season',\n",
       " 'home_player_Y3',\n",
       " 'away_player_2',\n",
       " 'stage',\n",
       " 'home_player_Y4',\n",
       " 'away_player_3',\n",
       " 'date',\n",
       " 'home_player_Y5',\n",
       " 'away_player_4',\n",
       " 'away_player_5',\n",
       " 'home_player_Y6',\n",
       " 'match_api_id',\n",
       " 'home_team_api_id',\n",
       " 'home_player_Y7',\n",
       " 'away_player_6',\n",
       " 'away_team_api_id',\n",
       " 'home_player_Y8',\n",
       " 'away_player_7',\n",
       " 'home_team_goal',\n",
       " 'home_player_Y9',\n",
       " 'away_player_8',\n",
       " 'away_team_goal',\n",
       " 'home_player_Y10',\n",
       " 'away_player_9',\n",
       " 'home_player_X1',\n",
       " 'home_player_Y11',\n",
       " 'away_player_10',\n",
       " 'home_player_X2',\n",
       " 'away_player_Y1',\n",
       " 'away_player_11',\n",
       " 'home_player_X3',\n",
       " 'away_player_Y2',\n",
       " 'goal']"
      ]
     },
     "execution_count": 79,
     "metadata": {},
     "output_type": "execute_result"
    }
   ],
   "source": [
    "country_id = df_dict['country']['id']\n",
    "country_id_LEAGUE = df_dict['League']['country_id']\n",
    "league_id = df_dict['League']['id']\n",
    "df_dict['Match'].columns.tolist()"
   ]
  },
  {
   "cell_type": "code",
   "execution_count": 75,
   "metadata": {},
   "outputs": [
    {
     "data": {
      "text/plain": [
       "['Country',\n",
       " 'League',\n",
       " 'country',\n",
       " 'Match',\n",
       " 'Player',\n",
       " 'Team',\n",
       " 'Player_Attributes',\n",
       " 'Team_Attributes']"
      ]
     },
     "execution_count": 75,
     "metadata": {},
     "output_type": "execute_result"
    }
   ],
   "source": [
    "classes"
   ]
  },
  {
   "cell_type": "code",
   "execution_count": null,
   "metadata": {},
   "outputs": [],
   "source": []
  }
 ],
 "metadata": {
  "kernelspec": {
   "display_name": "Python 3",
   "language": "python",
   "name": "python3"
  },
  "language_info": {
   "codemirror_mode": {
    "name": "ipython",
    "version": 3
   },
   "file_extension": ".py",
   "mimetype": "text/x-python",
   "name": "python",
   "nbconvert_exporter": "python",
   "pygments_lexer": "ipython3",
   "version": "3.8.5"
  }
 },
 "nbformat": 4,
 "nbformat_minor": 4
}
