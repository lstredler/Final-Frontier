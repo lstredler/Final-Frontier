{
 "cells": [
  {
   "cell_type": "code",
   "execution_count": 1,
   "metadata": {},
   "outputs": [
    {
     "data": {
      "text/plain": [
       "'2.5.0'"
      ]
     },
     "execution_count": 1,
     "metadata": {},
     "output_type": "execute_result"
    }
   ],
   "source": [
    "# Import SQLAlchemy `automap` and other dependencies\n",
    "import sqlalchemy\n",
    "from sqlalchemy.ext.automap import automap_base\n",
    "from sqlalchemy.orm import Session\n",
    "from sqlalchemy import create_engine, inspect\n",
    "from numpy.random import seed\n",
    "seed(1)\n",
    "\n",
    " # Dependencies\n",
    "import numpy as np\n",
    "import pandas as pd\n",
    "\n",
    "import tensorflow\n",
    "tensorflow.keras.__version__"
   ]
  },
  {
   "cell_type": "code",
   "execution_count": 2,
   "metadata": {},
   "outputs": [],
   "source": [
    "# Create the connection engine\n",
    "engine = create_engine(\"sqlite:///../Resources/database.sqlite\", echo=False)"
   ]
  },
  {
   "cell_type": "code",
   "execution_count": 3,
   "metadata": {},
   "outputs": [
    {
     "data": {
      "text/plain": [
       "Engine(sqlite:///../Resources/database.sqlite)"
      ]
     },
     "execution_count": 3,
     "metadata": {},
     "output_type": "execute_result"
    }
   ],
   "source": [
    "engine"
   ]
  },
  {
   "cell_type": "code",
   "execution_count": 7,
   "metadata": {},
   "outputs": [],
   "source": [
    "# Declare a Base using `automap_base()`\n",
    "inspector = inspect(engine)"
   ]
  },
  {
   "cell_type": "code",
   "execution_count": 8,
   "metadata": {},
   "outputs": [
    {
     "data": {
      "text/plain": [
       "['Country',\n",
       " 'League',\n",
       " 'Match',\n",
       " 'Player',\n",
       " 'Player_Attributes',\n",
       " 'Team',\n",
       " 'Team_Attributes',\n",
       " 'sqlite_sequence']"
      ]
     },
     "execution_count": 8,
     "metadata": {},
     "output_type": "execute_result"
    }
   ],
   "source": [
    "inspector.get_table_names()"
   ]
  },
  {
   "cell_type": "code",
   "execution_count": 9,
   "metadata": {},
   "outputs": [
    {
     "data": {
      "text/plain": [
       "['Country',\n",
       " 'League',\n",
       " 'country',\n",
       " 'Match',\n",
       " 'Player',\n",
       " 'Team',\n",
       " 'Player_Attributes',\n",
       " 'Team_Attributes']"
      ]
     },
     "execution_count": 9,
     "metadata": {},
     "output_type": "execute_result"
    }
   ],
   "source": [
    " # Reflect Database into ORM classes\n",
    "Base = automap_base()\n",
    "Base.prepare(engine, reflect=True)\n",
    "Base.classes.keys()"
   ]
  },
  {
   "cell_type": "code",
   "execution_count": 10,
   "metadata": {},
   "outputs": [],
   "source": [
    "Match=Base.classes.Match\n",
    "Attributes = Base.classes.Player_Attributes"
   ]
  },
  {
   "cell_type": "code",
   "execution_count": 14,
   "metadata": {},
   "outputs": [],
   "source": [
    "session = Session(engine) "
   ]
  },
  {
   "cell_type": "code",
   "execution_count": 11,
   "metadata": {},
   "outputs": [
    {
     "name": "stdout",
     "output_type": "stream",
     "text": [
      "id INTEGER\n",
      "player_fifa_api_id INTEGER\n",
      "player_api_id INTEGER\n",
      "date TEXT\n",
      "overall_rating INTEGER\n",
      "potential INTEGER\n",
      "preferred_foot TEXT\n",
      "attacking_work_rate TEXT\n",
      "defensive_work_rate TEXT\n",
      "crossing INTEGER\n",
      "finishing INTEGER\n",
      "heading_accuracy INTEGER\n",
      "short_passing INTEGER\n",
      "volleys INTEGER\n",
      "dribbling INTEGER\n",
      "curve INTEGER\n",
      "free_kick_accuracy INTEGER\n",
      "long_passing INTEGER\n",
      "ball_control INTEGER\n",
      "acceleration INTEGER\n",
      "sprint_speed INTEGER\n",
      "agility INTEGER\n",
      "reactions INTEGER\n",
      "balance INTEGER\n",
      "shot_power INTEGER\n",
      "jumping INTEGER\n",
      "stamina INTEGER\n",
      "strength INTEGER\n",
      "long_shots INTEGER\n",
      "aggression INTEGER\n",
      "interceptions INTEGER\n",
      "positioning INTEGER\n",
      "vision INTEGER\n",
      "penalties INTEGER\n",
      "marking INTEGER\n",
      "standing_tackle INTEGER\n",
      "sliding_tackle INTEGER\n",
      "gk_diving INTEGER\n",
      "gk_handling INTEGER\n",
      "gk_kicking INTEGER\n",
      "gk_positioning INTEGER\n",
      "gk_reflexes INTEGER\n"
     ]
    }
   ],
   "source": [
    "# Using the inspector to print the column names within the Table and its types\n",
    "columns = inspector.get_columns('Player_Attributes')\n",
    "for column in columns:\n",
    "    print(column[\"name\"], column[\"type\"])"
   ]
  },
  {
   "cell_type": "code",
   "execution_count": 12,
   "metadata": {},
   "outputs": [
    {
     "name": "stdout",
     "output_type": "stream",
     "text": [
      "id INTEGER\n",
      "country_id INTEGER\n",
      "league_id INTEGER\n",
      "season TEXT\n",
      "stage INTEGER\n",
      "date TEXT\n",
      "match_api_id INTEGER\n",
      "home_team_api_id INTEGER\n",
      "away_team_api_id INTEGER\n",
      "home_team_goal INTEGER\n",
      "away_team_goal INTEGER\n",
      "home_player_X1 INTEGER\n",
      "home_player_X2 INTEGER\n",
      "home_player_X3 INTEGER\n",
      "home_player_X4 INTEGER\n",
      "home_player_X5 INTEGER\n",
      "home_player_X6 INTEGER\n",
      "home_player_X7 INTEGER\n",
      "home_player_X8 INTEGER\n",
      "home_player_X9 INTEGER\n",
      "home_player_X10 INTEGER\n",
      "home_player_X11 INTEGER\n",
      "away_player_X1 INTEGER\n",
      "away_player_X2 INTEGER\n",
      "away_player_X3 INTEGER\n",
      "away_player_X4 INTEGER\n",
      "away_player_X5 INTEGER\n",
      "away_player_X6 INTEGER\n",
      "away_player_X7 INTEGER\n",
      "away_player_X8 INTEGER\n",
      "away_player_X9 INTEGER\n",
      "away_player_X10 INTEGER\n",
      "away_player_X11 INTEGER\n",
      "home_player_Y1 INTEGER\n",
      "home_player_Y2 INTEGER\n",
      "home_player_Y3 INTEGER\n",
      "home_player_Y4 INTEGER\n",
      "home_player_Y5 INTEGER\n",
      "home_player_Y6 INTEGER\n",
      "home_player_Y7 INTEGER\n",
      "home_player_Y8 INTEGER\n",
      "home_player_Y9 INTEGER\n",
      "home_player_Y10 INTEGER\n",
      "home_player_Y11 INTEGER\n",
      "away_player_Y1 INTEGER\n",
      "away_player_Y2 INTEGER\n",
      "away_player_Y3 INTEGER\n",
      "away_player_Y4 INTEGER\n",
      "away_player_Y5 INTEGER\n",
      "away_player_Y6 INTEGER\n",
      "away_player_Y7 INTEGER\n",
      "away_player_Y8 INTEGER\n",
      "away_player_Y9 INTEGER\n",
      "away_player_Y10 INTEGER\n",
      "away_player_Y11 INTEGER\n",
      "home_player_1 INTEGER\n",
      "home_player_2 INTEGER\n",
      "home_player_3 INTEGER\n",
      "home_player_4 INTEGER\n",
      "home_player_5 INTEGER\n",
      "home_player_6 INTEGER\n",
      "home_player_7 INTEGER\n",
      "home_player_8 INTEGER\n",
      "home_player_9 INTEGER\n",
      "home_player_10 INTEGER\n",
      "home_player_11 INTEGER\n",
      "away_player_1 INTEGER\n",
      "away_player_2 INTEGER\n",
      "away_player_3 INTEGER\n",
      "away_player_4 INTEGER\n",
      "away_player_5 INTEGER\n",
      "away_player_6 INTEGER\n",
      "away_player_7 INTEGER\n",
      "away_player_8 INTEGER\n",
      "away_player_9 INTEGER\n",
      "away_player_10 INTEGER\n",
      "away_player_11 INTEGER\n",
      "goal TEXT\n",
      "shoton TEXT\n",
      "shotoff TEXT\n",
      "foulcommit TEXT\n",
      "card TEXT\n",
      "cross TEXT\n",
      "corner TEXT\n",
      "possession TEXT\n",
      "B365H NUMERIC\n",
      "B365D NUMERIC\n",
      "B365A NUMERIC\n",
      "BWH NUMERIC\n",
      "BWD NUMERIC\n",
      "BWA NUMERIC\n",
      "IWH NUMERIC\n",
      "IWD NUMERIC\n",
      "IWA NUMERIC\n",
      "LBH NUMERIC\n",
      "LBD NUMERIC\n",
      "LBA NUMERIC\n",
      "PSH NUMERIC\n",
      "PSD NUMERIC\n",
      "PSA NUMERIC\n",
      "WHH NUMERIC\n",
      "WHD NUMERIC\n",
      "WHA NUMERIC\n",
      "SJH NUMERIC\n",
      "SJD NUMERIC\n",
      "SJA NUMERIC\n",
      "VCH NUMERIC\n",
      "VCD NUMERIC\n",
      "VCA NUMERIC\n",
      "GBH NUMERIC\n",
      "GBD NUMERIC\n",
      "GBA NUMERIC\n",
      "BSH NUMERIC\n",
      "BSD NUMERIC\n",
      "BSA NUMERIC\n"
     ]
    }
   ],
   "source": [
    "# Using the inspector to print the column names within the Table and its types\n",
    "columns = inspector.get_columns('Match')\n",
    "for column in columns:\n",
    "    print(column[\"name\"], column[\"type\"])"
   ]
  },
  {
   "cell_type": "code",
   "execution_count": null,
   "metadata": {},
   "outputs": [],
   "source": []
  },
  {
   "cell_type": "code",
   "execution_count": null,
   "metadata": {},
   "outputs": [],
   "source": []
  }
 ],
 "metadata": {
  "kernelspec": {
   "display_name": "Python 3",
   "language": "python",
   "name": "python3"
  },
  "language_info": {
   "codemirror_mode": {
    "name": "ipython",
    "version": 3
   },
   "file_extension": ".py",
   "mimetype": "text/x-python",
   "name": "python",
   "nbconvert_exporter": "python",
   "pygments_lexer": "ipython3",
   "version": "3.8.5"
  }
 },
 "nbformat": 4,
 "nbformat_minor": 4
}
