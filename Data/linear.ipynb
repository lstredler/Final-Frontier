{
 "cells": [
  {
   "cell_type": "code",
   "execution_count": 1,
   "metadata": {},
   "outputs": [],
   "source": [
    "from numpy.random import seed\n",
    "seed(1)"
   ]
  },
  {
   "cell_type": "code",
   "execution_count": 2,
   "metadata": {},
   "outputs": [],
   "source": [
    " # Dependencies\n",
    "import numpy as np\n",
    "import pandas as pd\n",
    "\n",
    "# Import SQLAlchemy `automap` and other dependencies\n",
    "import sqlalchemy\n",
    "from sqlalchemy.ext.automap import automap_base\n",
    "from sqlalchemy.orm import Session\n",
    "from sqlalchemy import create_engine, inspect"
   ]
  },
  {
   "cell_type": "code",
   "execution_count": 3,
   "metadata": {},
   "outputs": [
    {
     "data": {
      "text/plain": [
       "'2.5.0'"
      ]
     },
     "execution_count": 3,
     "metadata": {},
     "output_type": "execute_result"
    }
   ],
   "source": [
    " import tensorflow\n",
    "tensorflow.keras.__version__"
   ]
  },
  {
   "cell_type": "code",
   "execution_count": 4,
   "metadata": {},
   "outputs": [],
   "source": [
    "engine = create_engine(\"sqlite:///../Resources/database.sqlite\", echo=False)"
   ]
  },
  {
   "cell_type": "code",
   "execution_count": 5,
   "metadata": {},
   "outputs": [
    {
     "data": {
      "text/plain": [
       "Engine(sqlite:///../Resources/database.sqlite)"
      ]
     },
     "execution_count": 5,
     "metadata": {},
     "output_type": "execute_result"
    }
   ],
   "source": [
    "engine"
   ]
  },
  {
   "cell_type": "code",
   "execution_count": 6,
   "metadata": {},
   "outputs": [],
   "source": [
    "# Declare a Base using `automap_base()`\n",
    "inspector = inspect(engine)"
   ]
  },
  {
   "cell_type": "code",
   "execution_count": 7,
   "metadata": {},
   "outputs": [
    {
     "data": {
      "text/plain": [
       "['Country',\n",
       " 'League',\n",
       " 'country',\n",
       " 'Match',\n",
       " 'Player',\n",
       " 'Team',\n",
       " 'Player_Attributes',\n",
       " 'Team_Attributes']"
      ]
     },
     "execution_count": 7,
     "metadata": {},
     "output_type": "execute_result"
    }
   ],
   "source": [
    " # Reflect Database into ORM classes\n",
    "Base = automap_base()\n",
    "Base.prepare(engine, reflect=True)\n",
    "Base.classes.keys()"
   ]
  },
  {
   "cell_type": "code",
   "execution_count": 8,
   "metadata": {},
   "outputs": [],
   "source": [
    "Match=Base.classes.Match\n",
    "Attributes = Base.classes.Player_Attributes"
   ]
  },
  {
   "cell_type": "code",
   "execution_count": 9,
   "metadata": {},
   "outputs": [],
   "source": [
    "session = Session(engine) "
   ]
  },
  {
   "cell_type": "code",
   "execution_count": 10,
   "metadata": {},
   "outputs": [
    {
     "name": "stdout",
     "output_type": "stream",
     "text": [
      "id INTEGER\n",
      "player_fifa_api_id INTEGER\n",
      "player_api_id INTEGER\n",
      "date TEXT\n",
      "overall_rating INTEGER\n",
      "potential INTEGER\n",
      "preferred_foot TEXT\n",
      "attacking_work_rate TEXT\n",
      "defensive_work_rate TEXT\n",
      "crossing INTEGER\n",
      "finishing INTEGER\n",
      "heading_accuracy INTEGER\n",
      "short_passing INTEGER\n",
      "volleys INTEGER\n",
      "dribbling INTEGER\n",
      "curve INTEGER\n",
      "free_kick_accuracy INTEGER\n",
      "long_passing INTEGER\n",
      "ball_control INTEGER\n",
      "acceleration INTEGER\n",
      "sprint_speed INTEGER\n",
      "agility INTEGER\n",
      "reactions INTEGER\n",
      "balance INTEGER\n",
      "shot_power INTEGER\n",
      "jumping INTEGER\n",
      "stamina INTEGER\n",
      "strength INTEGER\n",
      "long_shots INTEGER\n",
      "aggression INTEGER\n",
      "interceptions INTEGER\n",
      "positioning INTEGER\n",
      "vision INTEGER\n",
      "penalties INTEGER\n",
      "marking INTEGER\n",
      "standing_tackle INTEGER\n",
      "sliding_tackle INTEGER\n",
      "gk_diving INTEGER\n",
      "gk_handling INTEGER\n",
      "gk_kicking INTEGER\n",
      "gk_positioning INTEGER\n",
      "gk_reflexes INTEGER\n"
     ]
    }
   ],
   "source": [
    "# Using the inspector to print the column names within the Table and its types\n",
    "columns = inspector.get_columns('Player_Attributes')\n",
    "for column in columns:\n",
    "    print(column[\"name\"], column[\"type\"])"
   ]
  },
  {
   "cell_type": "code",
   "execution_count": null,
   "metadata": {},
   "outputs": [],
   "source": []
  }
 ],
 "metadata": {
  "kernelspec": {
   "display_name": "Python 3",
   "language": "python",
   "name": "python3"
  },
  "language_info": {
   "codemirror_mode": {
    "name": "ipython",
    "version": 3
   },
   "file_extension": ".py",
   "mimetype": "text/x-python",
   "name": "python",
   "nbconvert_exporter": "python",
   "pygments_lexer": "ipython3",
   "version": "3.8.5"
  }
 },
 "nbformat": 4,
 "nbformat_minor": 4
}
