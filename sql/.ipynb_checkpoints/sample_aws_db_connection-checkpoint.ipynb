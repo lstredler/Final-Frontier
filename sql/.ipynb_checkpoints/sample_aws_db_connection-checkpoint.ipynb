{
 "cells": [
  {
   "cell_type": "code",
   "execution_count": 8,
   "id": "4cff85ab-2e28-48e7-a0fa-c45b50e682e4",
   "metadata": {},
   "outputs": [],
   "source": [
    "import pandas as pd\n",
    "import psycopg2\n",
    "from sqlalchemy import create_engine"
   ]
  },
  {
   "cell_type": "code",
   "execution_count": 13,
   "id": "2654b2c3-9632-423f-9e6f-5e58cef45a8a",
   "metadata": {},
   "outputs": [],
   "source": [
    "engine = psycopg2.connect(\n",
    "    database=\"final-frontier2\",\n",
    "    user=\"postgres\",\n",
    "    password=\"TypicalParkerLuck\",\n",
    "    host=\"final-frontier.czribcwnemzt.us-east-1.rds.amazonaws.com\",\n",
    "    port='5432'\n",
    ")"
   ]
  },
  {
   "cell_type": "code",
   "execution_count": 15,
   "id": "ea365580-2e85-4f7e-bbe6-e3fa30198694",
   "metadata": {},
   "outputs": [
    {
     "data": {
      "text/plain": [
       "[(1, 'Belgium'),\n",
       " (1729, 'England'),\n",
       " (4769, 'France'),\n",
       " (7809, 'Germany'),\n",
       " (10257, 'Italy'),\n",
       " (13274, 'Netherlands'),\n",
       " (15722, 'Poland'),\n",
       " (17642, 'Portugal'),\n",
       " (19694, 'Scotland'),\n",
       " (21518, 'Spain'),\n",
       " (24558, 'Switzerland')]"
      ]
     },
     "execution_count": 15,
     "metadata": {},
     "output_type": "execute_result"
    }
   ],
   "source": [
    "#engine #.table_names()\n",
    "cursor = engine.cursor()\n",
    "#cursor\n",
    "select_Query = \"select * from country\"\n",
    "cursor.execute(select_Query)\n",
    "qout = cursor.fetchall()\n",
    "qout"
   ]
  },
  {
   "cell_type": "code",
   "execution_count": null,
   "id": "cb696533-63a6-4537-997c-46c9471fada5",
   "metadata": {},
   "outputs": [],
   "source": []
  }
 ],
 "metadata": {
  "kernelspec": {
   "display_name": "Python 3",
   "language": "python",
   "name": "python3"
  },
  "language_info": {
   "codemirror_mode": {
    "name": "ipython",
    "version": 3
   },
   "file_extension": ".py",
   "mimetype": "text/x-python",
   "name": "python",
   "nbconvert_exporter": "python",
   "pygments_lexer": "ipython3",
   "version": "3.8.10"
  }
 },
 "nbformat": 4,
 "nbformat_minor": 5
}
