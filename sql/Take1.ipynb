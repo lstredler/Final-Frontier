{
 "cells": [
  {
   "cell_type": "code",
   "execution_count": 2,
   "id": "eb12f248-de26-40f5-9133-4235f443bc0e",
   "metadata": {},
   "outputs": [],
   "source": [
    "import pandas as pd\n",
    "import psycopg2\n",
    "from sqlalchemy import create_engine\n",
    "\n",
    "import numpy as np\n",
    "import matplotlib.pyplot as plt  # To visualize\n",
    "import pandas as pd  # To read data\n",
    "from sklearn.linear_model import LinearRegression\n",
    "\n",
    "engine = psycopg2.connect(\n",
    "    database=\"final-frontier2\",\n",
    "    user=\"postgres\",\n",
    "    password=\"TypicalParkerLuck\",\n",
    "    host=\"final-frontier.czribcwnemzt.us-east-1.rds.amazonaws.com\",\n",
    "    port='5432',\n",
    "    connect_timeout=3)\n",
    "\n",
    "#engine #.table_names()\n",
    "cursor = engine.cursor()"
   ]
  },
  {
   "cell_type": "code",
   "execution_count": 3,
   "id": "1d13694f-0ea6-44ba-b5d1-ff6687dfd330",
   "metadata": {},
   "outputs": [
    {
     "ename": "SyntaxError",
     "evalue": "invalid syntax (<ipython-input-3-c468d4e221d1>, line 41)",
     "output_type": "error",
     "traceback": [
      "\u001b[1;36m  File \u001b[1;32m\"<ipython-input-3-c468d4e221d1>\"\u001b[1;36m, line \u001b[1;32m41\u001b[0m\n\u001b[1;33m    mask = (liv_home_df['date'] = '2011-03-06') # & (liv_home_df['date'] <= '2011-03-07')\u001b[0m\n\u001b[1;37m                                ^\u001b[0m\n\u001b[1;31mSyntaxError\u001b[0m\u001b[1;31m:\u001b[0m invalid syntax\n"
     ]
    }
   ],
   "source": [
    "# Select home player roster for when MUN played at Liverpool\n",
    "\n",
    "drop_Query = \"drop table if exists livvman;\"\n",
    "cursor.execute(drop_Query)\n",
    "\n",
    "\n",
    "sel_liv_home_Query = \"select distinct p.player_name, p.player_api_id, m.home_team_api_id \\\n",
    "                into temporary table livvman from player p, \\\n",
    "                match m where ((p.player_api_id = m.home_player_1) \\\n",
    "                               or (p.player_api_id = m.home_player_2) \\\n",
    "                               or (p.player_api_id = m.home_player_3) \\\n",
    "                               or (p.player_api_id = m.home_player_4) \\\n",
    "                               or (p.player_api_id = m.home_player_5) \\\n",
    "                               or (p.player_api_id = m.home_player_6) \\\n",
    "                               or (p.player_api_id = m.home_player_7) \\\n",
    "                               or (p.player_api_id = m.home_player_8) \\\n",
    "                               or (p.player_api_id = m.home_player_9) \\\n",
    "                               or (p.player_api_id = m.home_player_10) \\\n",
    "                               or (p.player_api_id = m.home_player_11)) \\\n",
    "                and ((m.home_team_api_id = 8650) and (away_team_api_id = 10260));\"\n",
    "\n",
    "cursor.execute(sel_liv_home_Query)\n",
    "join_liv_home_Query = \"select * from livvman \\\n",
    "                  left join player_attributes \\\n",
    "                  on livvman.player_api_id = player_attributes.player_api_id;\"\n",
    "cursor.execute(join_liv_home_Query)\n",
    "\n",
    "liverpool_home = cursor.fetchall()\n",
    "liv_home_df = pd.DataFrame(liverpool_home,columns=['player_name','player_api_id','home_team_api_id','id',\\\n",
    "                'player_fifa_api_id','player_api_id-2','date','overall_rating','potential','preferred_foot','attacking_work_rate',\\\n",
    "                'defensive_work_rate','crossing','finishing','heading_accuracy','short_passing','volleys','dribbling','curve',\\\n",
    "                'free_kick_accuracy','long_passing','ball_control','acceleration','sprint_speed','agility','reactions','balance',\\\n",
    "                'shot_power','jumping','stamina','strength','long_shots','aggression','interceptions','positioning','vision','penalties',\\\n",
    "                'marking','standing_tackle','sliding_tackle','gk_diving','gk_handling','gk_kicking','gk_positioning','gk_reflexes'])\n",
    "\n",
    "\n",
    "liv_home_df['date'] = pd.to_datetime(liv_home_df['date']).dt.date\n",
    "\n",
    "#df['birth_date'] > start_date) & (df['birth_date'] <= end_date\n",
    "\n",
    "#mask = (liv_home_df['date'] = '2011-03-06') # & (liv_home_df['date'] <= '2011-03-07')\n",
    "\n",
    "#df = liv_home_df.loc['date' = '2011-03-06']\n",
    "\n",
    "df"
   ]
  },
  {
   "cell_type": "code",
   "execution_count": 22,
   "id": "b4ec4654-3031-4541-91f1-8dae7f7bcf4c",
   "metadata": {},
   "outputs": [
    {
     "data": {
      "text/plain": [
       "6"
      ]
     },
     "execution_count": 22,
     "metadata": {},
     "output_type": "execute_result"
    }
   ],
   "source": [
    "#data = liv_home_df[[\"overall_rating\",\"potential\",\"agility\",\"shot_power\",\"strength\",\"aggression\"]]\n",
    "data = liv_home_df[[\"overall_rating\",\"aggression\"]]\n",
    "cdata = data.dropna(how='any')\n",
    "#data = data.apply(pd.to_numeric, errors='coerce')\n",
    "\n",
    "#data.replace('', np.nan, inplace=True)\n",
    "data.isnull().sum().sum()\n",
    "#cleandata"
   ]
  },
  {
   "cell_type": "code",
   "execution_count": 23,
   "id": "bb5ff3f7-0ffe-4c52-8909-8af0857e8789",
   "metadata": {},
   "outputs": [],
   "source": [
    "#data = liv_home_df['overall_rating','potential','agility','shot_power','strength','agression']  # load data set\n",
    "X = cdata.iloc[:, 0].values.reshape(-1, 1)  # values converts it into a numpy array\n",
    "Y = cdata.iloc[:, 1].values.reshape(-1, 1)  # -1 means that calculate the dimension of rows, but have 1 column\n",
    "linear_regressor = LinearRegression()  # create object for the class\n",
    "linear_regressor.fit(X, Y)  # perform linear regression\n",
    "Y_pred = linear_regressor.predict(X)  # make predictions"
   ]
  },
  {
   "cell_type": "code",
   "execution_count": 24,
   "id": "7d0493f5-20db-4428-bcaa-9b69910edaa8",
   "metadata": {},
   "outputs": [
    {
     "data": {
      "image/png": "[encoded data removed]",
      "text/plain": [
       "<Figure size 432x288 with 1 Axes>"
      ]
     },
     "metadata": {
      "needs_background": "light"
     },
     "output_type": "display_data"
    }
   ],
   "source": [
    "plt.scatter(X, Y)\n",
    "plt.plot(X, Y_pred, color='red')\n",
    "plt.show()"
   ]
  },
  {
   "cell_type": "code",
   "execution_count": null,
   "id": "5bbe2510-f010-4607-95f3-585885f7560d",
   "metadata": {},
   "outputs": [],
   "source": []
  }
 ],
 "metadata": {
  "kernelspec": {
   "display_name": "Python 3",
   "language": "python",
   "name": "python3"
  },
  "language_info": {
   "codemirror_mode": {
    "name": "ipython",
    "version": 3
   },
   "file_extension": ".py",
   "mimetype": "text/x-python",
   "name": "python",
   "nbconvert_exporter": "python",
   "pygments_lexer": "ipython3",
   "version": "3.8.10"
  }
 },
 "nbformat": 4,
 "nbformat_minor": 5
}
