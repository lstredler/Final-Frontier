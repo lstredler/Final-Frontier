{
 "cells": [
  {
   "cell_type": "code",
   "execution_count": 39,
   "id": "4cff85ab-2e28-48e7-a0fa-c45b50e682e4",
   "metadata": {},
   "outputs": [],
   "source": [
    "import pandas as pd\n",
    "import psycopg2\n",
    "from sqlalchemy import create_engine"
   ]
  },
  {
   "cell_type": "code",
   "execution_count": 40,
   "id": "2654b2c3-9632-423f-9e6f-5e58cef45a8a",
   "metadata": {},
   "outputs": [],
   "source": [
    "engine = psycopg2.connect(\n",
    "    database=\"final-frontier2\",\n",
    "    user=\"postgres\",\n",
    "    password=\"TypicalParkerLuck\",\n",
    "    host=\"final-frontier.czribcwnemzt.us-east-1.rds.amazonaws.com\",\n",
    "    port='5432'\n",
    ")"
   ]
  },
  {
   "cell_type": "code",
   "execution_count": 41,
   "id": "9c0a7ef9-c346-4638-8cfd-996ae122678f",
   "metadata": {},
   "outputs": [
    {
     "data": {
      "text/plain": [
       "<cursor object at 0x000002BB5622DC80; closed: 0>"
      ]
     },
     "execution_count": 41,
     "metadata": {},
     "output_type": "execute_result"
    }
   ],
   "source": [
    "#engine #.table_names()\n",
    "cursor = engine.cursor()\n",
    "cursor"
   ]
  },
  {
   "cell_type": "code",
   "execution_count": 36,
   "id": "9fbca76a-c0c2-47ed-8aa6-d8f8eb0e7602",
   "metadata": {},
   "outputs": [
    {
     "ename": "ProgrammingError",
     "evalue": "no results to fetch",
     "output_type": "error",
     "traceback": [
      "\u001b[1;31m---------------------------------------------------------------------------\u001b[0m",
      "\u001b[1;31mProgrammingError\u001b[0m                          Traceback (most recent call last)",
      "\u001b[1;32m<ipython-input-36-4839a323e613>\u001b[0m in \u001b[0;36m<module>\u001b[1;34m\u001b[0m\n\u001b[0;32m     21\u001b[0m \u001b[1;33m\u001b[0m\u001b[0m\n\u001b[0;32m     22\u001b[0m \u001b[0mcursor\u001b[0m\u001b[1;33m.\u001b[0m\u001b[0mexecute\u001b[0m\u001b[1;33m(\u001b[0m\u001b[0msel_liv_Query\u001b[0m\u001b[1;33m)\u001b[0m\u001b[1;33m\u001b[0m\u001b[1;33m\u001b[0m\u001b[0m\n\u001b[1;32m---> 23\u001b[1;33m \u001b[0mliverpool\u001b[0m \u001b[1;33m=\u001b[0m \u001b[0mcursor\u001b[0m\u001b[1;33m.\u001b[0m\u001b[0mfetchall\u001b[0m\u001b[1;33m(\u001b[0m\u001b[1;33m)\u001b[0m\u001b[1;33m\u001b[0m\u001b[1;33m\u001b[0m\u001b[0m\n\u001b[0m\u001b[0;32m     24\u001b[0m \u001b[0mliverpool\u001b[0m\u001b[1;33m\u001b[0m\u001b[1;33m\u001b[0m\u001b[0m\n",
      "\u001b[1;31mProgrammingError\u001b[0m: no results to fetch"
     ]
    }
   ],
   "source": [
    "#select_Query = \"select * from country\"\n",
    "drop_Query = \"drop table if exists manvliv;\"\n",
    "cursor.execute(drop_Query)\n",
    "sel_liv_Query = \"select distinct p.player_name, p.player_api_id, m.home_team_api_id \\\n",
    "                into temporary table manvliv from player p, \\\n",
    "                match m where ((p.player_api_id = m.home_player_1) \\\n",
    "                               or (p.player_api_id = m.home_player_2) \\\n",
    "                               or (p.player_api_id = m.home_player_3) \\\n",
    "                               or (p.player_api_id = m.home_player_4) \\\n",
    "                               or (p.player_api_id = m.home_player_5) \\\n",
    "                               or (p.player_api_id = m.home_player_6) \\\n",
    "                               or (p.player_api_id = m.home_player_7) \\\n",
    "                               or (p.player_api_id = m.home_player_8) \\\n",
    "                               or (p.player_api_id = m.home_player_9) \\\n",
    "                               or (p.player_api_id = m.home_player_10) \\\n",
    "                               or (p.player_api_id = m.home_player_11)) \\\n",
    "                and ((m.home_team_api_id = 8650) and (away_team_api_id = 10260));\"\n",
    "\n",
    "cursor.execute(sel_liv_Query)\n",
    "liverpool = cursor.fetchall()\n",
    "liverpool"
   ]
  },
  {
   "cell_type": "code",
   "execution_count": null,
   "id": "cb696533-63a6-4537-997c-46c9471fada5",
   "metadata": {},
   "outputs": [],
   "source": []
  }
 ],
 "metadata": {
  "kernelspec": {
   "display_name": "Python 3",
   "language": "python",
   "name": "python3"
  },
  "language_info": {
   "codemirror_mode": {
    "name": "ipython",
    "version": 3
   },
   "file_extension": ".py",
   "mimetype": "text/x-python",
   "name": "python",
   "nbconvert_exporter": "python",
   "pygments_lexer": "ipython3",
   "version": "3.8.10"
  }
 },
 "nbformat": 4,
 "nbformat_minor": 5
}
